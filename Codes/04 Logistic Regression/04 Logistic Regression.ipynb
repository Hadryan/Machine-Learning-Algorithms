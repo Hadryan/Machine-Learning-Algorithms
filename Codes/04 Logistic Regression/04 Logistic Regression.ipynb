{
 "cells": [
  {
   "cell_type": "markdown",
   "metadata": {},
   "source": [
    "# Logistic Regression without sklearn"
   ]
  },
  {
   "cell_type": "markdown",
   "metadata": {},
   "source": [
    "## Import Dataset And Pre-pocess"
   ]
  },
  {
   "cell_type": "code",
   "execution_count": 1,
   "metadata": {},
   "outputs": [],
   "source": [
    "import matplotlib.pyplot as plt\n",
    "import numpy as np\n",
    "import pandas as pd"
   ]
  },
  {
   "cell_type": "code",
   "execution_count": 2,
   "metadata": {},
   "outputs": [],
   "source": [
    "def loadDataSet():\n",
    "    dataMat = []                                                        #创建数据列表\n",
    "    labelMat = []                                                       #创建标签列表\n",
    "    fr = open('04_1.txt')                                               #打开文件   \n",
    "    for line in fr.readlines():                                         #逐行读取\n",
    "        lineArr = line.strip().split()                                  #去回车，放入列表\n",
    "        dataMat.append([1.0, float(lineArr[0]), float(lineArr[1])])     #特征数据集添加 1，构造常数项x0\n",
    "        labelMat.append(int(lineArr[-1]))                               #在最后一列添加标签\n",
    "    fr.close()                                                          #关闭文件\n",
    "    return dataMat, labelMat                                            #返回"
   ]
  },
  {
   "cell_type": "code",
   "execution_count": 3,
   "metadata": {},
   "outputs": [],
   "source": [
    "# loadDataSet()"
   ]
  },
  {
   "cell_type": "code",
   "execution_count": 4,
   "metadata": {},
   "outputs": [
    {
     "data": {
      "text/html": [
       "<div>\n",
       "<style scoped>\n",
       "    .dataframe tbody tr th:only-of-type {\n",
       "        vertical-align: middle;\n",
       "    }\n",
       "\n",
       "    .dataframe tbody tr th {\n",
       "        vertical-align: top;\n",
       "    }\n",
       "\n",
       "    .dataframe thead th {\n",
       "        text-align: right;\n",
       "    }\n",
       "</style>\n",
       "<table border=\"1\" class=\"dataframe\">\n",
       "  <thead>\n",
       "    <tr style=\"text-align: right;\">\n",
       "      <th></th>\n",
       "      <th>0</th>\n",
       "      <th>1</th>\n",
       "      <th>2</th>\n",
       "    </tr>\n",
       "  </thead>\n",
       "  <tbody>\n",
       "    <tr>\n",
       "      <td>0</td>\n",
       "      <td>-0.017612</td>\n",
       "      <td>14.053064</td>\n",
       "      <td>0</td>\n",
       "    </tr>\n",
       "    <tr>\n",
       "      <td>1</td>\n",
       "      <td>-1.395634</td>\n",
       "      <td>4.662541</td>\n",
       "      <td>1</td>\n",
       "    </tr>\n",
       "    <tr>\n",
       "      <td>2</td>\n",
       "      <td>-0.752157</td>\n",
       "      <td>6.538620</td>\n",
       "      <td>0</td>\n",
       "    </tr>\n",
       "    <tr>\n",
       "      <td>3</td>\n",
       "      <td>-1.322371</td>\n",
       "      <td>7.152853</td>\n",
       "      <td>0</td>\n",
       "    </tr>\n",
       "    <tr>\n",
       "      <td>4</td>\n",
       "      <td>0.423363</td>\n",
       "      <td>11.054677</td>\n",
       "      <td>0</td>\n",
       "    </tr>\n",
       "    <tr>\n",
       "      <td>...</td>\n",
       "      <td>...</td>\n",
       "      <td>...</td>\n",
       "      <td>...</td>\n",
       "    </tr>\n",
       "    <tr>\n",
       "      <td>95</td>\n",
       "      <td>0.677983</td>\n",
       "      <td>2.556666</td>\n",
       "      <td>1</td>\n",
       "    </tr>\n",
       "    <tr>\n",
       "      <td>96</td>\n",
       "      <td>0.761349</td>\n",
       "      <td>10.693862</td>\n",
       "      <td>0</td>\n",
       "    </tr>\n",
       "    <tr>\n",
       "      <td>97</td>\n",
       "      <td>-2.168791</td>\n",
       "      <td>0.143632</td>\n",
       "      <td>1</td>\n",
       "    </tr>\n",
       "    <tr>\n",
       "      <td>98</td>\n",
       "      <td>1.388610</td>\n",
       "      <td>9.341997</td>\n",
       "      <td>0</td>\n",
       "    </tr>\n",
       "    <tr>\n",
       "      <td>99</td>\n",
       "      <td>0.317029</td>\n",
       "      <td>14.739025</td>\n",
       "      <td>0</td>\n",
       "    </tr>\n",
       "  </tbody>\n",
       "</table>\n",
       "<p>100 rows × 3 columns</p>\n",
       "</div>"
      ],
      "text/plain": [
       "           0          1  2\n",
       "0  -0.017612  14.053064  0\n",
       "1  -1.395634   4.662541  1\n",
       "2  -0.752157   6.538620  0\n",
       "3  -1.322371   7.152853  0\n",
       "4   0.423363  11.054677  0\n",
       "..       ...        ... ..\n",
       "95  0.677983   2.556666  1\n",
       "96  0.761349  10.693862  0\n",
       "97 -2.168791   0.143632  1\n",
       "98  1.388610   9.341997  0\n",
       "99  0.317029  14.739025  0\n",
       "\n",
       "[100 rows x 3 columns]"
      ]
     },
     "execution_count": 4,
     "metadata": {},
     "output_type": "execute_result"
    }
   ],
   "source": [
    "import pandas as pd\n",
    "dataset = pd.read_csv(\"04_1.txt\", delimiter=\"\\t\", header=None)\n",
    "dataset"
   ]
  },
  {
   "cell_type": "markdown",
   "metadata": {},
   "source": [
    "## Data Visualization"
   ]
  },
  {
   "cell_type": "code",
   "execution_count": 5,
   "metadata": {},
   "outputs": [],
   "source": [
    "def plotDataSet():\n",
    "    dataMat, labelMat = loadDataSet()                                    #加载数据集\n",
    "    dataArr = np.array(dataMat)                                          #转换成numpy的array数组\n",
    "    n = np.shape(dataMat)[0]                                             #数据个数\n",
    "    xcord1 = []; ycord1 = []                                             #正样本\n",
    "    xcord2 = []; ycord2 = []                                             #负样本\n",
    "    for i in range(n):                                                   #根据数据集标签进行分类\n",
    "        if int(labelMat[i]) == 1:\n",
    "            xcord1.append(dataArr[i,1]); ycord1.append(dataArr[i,2])     #1为正样本\n",
    "        else:\n",
    "            xcord2.append(dataArr[i,1]); ycord2.append(dataArr[i,2])     #0为负样本\n",
    "    fig = plt.figure()\n",
    "    ax = fig.add_subplot(111)                                            #添加subplot\n",
    "    ax.scatter(xcord1, ycord1, s = 20, c = 'red', marker = 's',alpha=.5) #绘制正样本\n",
    "    ax.scatter(xcord2, ycord2, s = 20, c = 'green',alpha=.5)             #绘制负样本\n",
    "    plt.title('DataSet')                                                 #绘制title\n",
    "    plt.xlabel('x'); plt.ylabel('y')                                     #绘制label\n",
    "    plt.show()                                                           #显示"
   ]
  },
  {
   "cell_type": "code",
   "execution_count": 6,
   "metadata": {},
   "outputs": [
    {
     "data": {
      "image/png": "[encoded data removed]",
      "text/plain": [
       "<Figure size 432x288 with 1 Axes>"
      ]
     },
     "metadata": {
      "needs_background": "light"
     },
     "output_type": "display_data"
    }
   ],
   "source": [
    "plotDataSet()"
   ]
  },
  {
   "cell_type": "markdown",
   "metadata": {},
   "source": [
    "## Sigmoid Function"
   ]
  },
  {
   "cell_type": "code",
   "execution_count": 7,
   "metadata": {},
   "outputs": [],
   "source": [
    "def sigmoid(inX):\n",
    "    return 1.0 / (1 + np.exp(-inX))"
   ]
  },
  {
   "cell_type": "code",
   "execution_count": 8,
   "metadata": {},
   "outputs": [
    {
     "data": {
      "text/plain": [
       "(-0.2, 1.2)"
      ]
     },
     "execution_count": 8,
     "metadata": {},
     "output_type": "execute_result"
    },
    {
     "data": {
      "image/png": "[encoded data removed]",
      "text/plain": [
       "<Figure size 432x288 with 1 Axes>"
      ]
     },
     "metadata": {
      "needs_background": "light"
     },
     "output_type": "display_data"
    }
   ],
   "source": [
    "x1 = np.linspace(-20, 20, 100)  # x1 ∈ (-∞，+∞)\n",
    "y1 = sigmoid(x1)                # y1 ∈ (0，1)\n",
    "plt.plot(x1, y1)\n",
    "plt.grid()\n",
    "plt.xlim(-10, 10)\n",
    "plt.ylim(-0.2, 1.2)"
   ]
  },
  {
   "cell_type": "markdown",
   "metadata": {},
   "source": [
    "## Train Algorithm\n",
    "Use **Gradient Ascent** to solve coefficents [w0,w1,w2]"
   ]
  },
  {
   "cell_type": "code",
   "execution_count": 9,
   "metadata": {},
   "outputs": [],
   "source": [
    "def gradAscent(dataMatIn, classLabels):\n",
    "    dataMatrix = np.mat(dataMatIn)                                        #转换成numpy的mat\n",
    "    labelMat = np.mat(classLabels).transpose()                            #转换成numpy的mat,并进行转置\n",
    "    m, n = np.shape(dataMatrix)                                           #返回dataMatrix的大小。m为行数,n为列数。\n",
    "    alpha = 0.001                                                         #移动步长,也就是学习速率,控制更新的幅度。\n",
    "    maxCycles = 500                                                       #最大迭代次数\n",
    "    weights = np.ones((n,1))\n",
    "    for k in range(maxCycles):\n",
    "        h = sigmoid(dataMatrix * weights)                                 #梯度上升矢量化公式\n",
    "        error = labelMat - h\n",
    "        weights = weights + alpha * dataMatrix.transpose() * error\n",
    "    return weights.getA()                                                 #将矩阵转换为数组，返回权重数组"
   ]
  },
  {
   "cell_type": "code",
   "execution_count": 10,
   "metadata": {},
   "outputs": [
    {
     "name": "stdout",
     "output_type": "stream",
     "text": [
      "[[ 4.12414349]\n",
      " [ 0.48007329]\n",
      " [-0.6168482 ]]\n"
     ]
    }
   ],
   "source": [
    "dataMat, labelMat = loadDataSet()           \n",
    "print(gradAscent(dataMat, labelMat))"
   ]
  },
  {
   "cell_type": "markdown",
   "metadata": {},
   "source": [
    "### An Example for Gradient Ascent\n",
    "When does y = -2x^2 + 4 get the maxmimun?"
   ]
  },
  {
   "cell_type": "code",
   "execution_count": 11,
   "metadata": {},
   "outputs": [
    {
     "data": {
      "text/plain": [
       "[<matplotlib.lines.Line2D at 0x19aad95ca08>]"
      ]
     },
     "execution_count": 11,
     "metadata": {},
     "output_type": "execute_result"
    },
    {
     "data": {
      "image/png": "[encoded data removed]",
      "text/plain": [
       "<Figure size 432x288 with 1 Axes>"
      ]
     },
     "metadata": {
      "needs_background": "light"
     },
     "output_type": "display_data"
    }
   ],
   "source": [
    "x = np.linspace(0.0, 4.0, 50)\n",
    "y = -x**2 + 4*x\n",
    "plt.plot(x,y)"
   ]
  },
  {
   "cell_type": "markdown",
   "metadata": {},
   "source": [
    "### Answer to Example\n",
    "$$f(x) = -x^{2} + 4x$$\n",
    "    \n",
    "$$f'(x) = -2x + 4$$\n",
    "\n",
    "$$x_{i+1} = x_{i} + \\alpha * \\frac{\\partial f(x_{i})}{\\partial x_{i}}$$"
   ]
  },
  {
   "cell_type": "code",
   "execution_count": 12,
   "metadata": {},
   "outputs": [],
   "source": [
    "def Gradient_Ascent_test():\n",
    "    def f_prime(x_old):                                   #f(x)的导数\n",
    "        return -2 * x_old + 4\n",
    "    x_old = -1                                            #初始值，给一个小于x_new的值\n",
    "    x_new = 0                                             #梯度上升算法初始值，即从(0,0)开始\n",
    "    alpha = 0.01                                          #步长，也就是学习速率，控制更新的幅度\n",
    "    precison = 0.00000001                                 #精度，也就是更新阈值\n",
    "    while abs(x_new - x_old) > precison:\n",
    "        x_old = x_new\n",
    "        x_new = x_old + alpha * f_prime(x_old)            #上面提到的公式\n",
    "    print(x_new)                                          #打印最终求解的极值近似值"
   ]
  },
  {
   "cell_type": "code",
   "execution_count": 13,
   "metadata": {},
   "outputs": [
    {
     "name": "stdout",
     "output_type": "stream",
     "text": [
      "1.999999515279857\n"
     ]
    }
   ],
   "source": [
    "Gradient_Ascent_test()"
   ]
  },
  {
   "cell_type": "markdown",
   "metadata": {},
   "source": [
    "## Test Algorithm\n",
    "Plot the decision boundary"
   ]
  },
  {
   "cell_type": "code",
   "execution_count": 14,
   "metadata": {},
   "outputs": [],
   "source": [
    "def plotBestFit(weights):\n",
    "    dataMat, labelMat = loadDataSet()                                    #加载数据集\n",
    "    dataArr = np.array(dataMat)                                          #转换成numpy的array数组\n",
    "    n = np.shape(dataMat)[0]                                             #数据个数\n",
    "    xcord1 = []; ycord1 = []                                             #正样本\n",
    "    xcord2 = []; ycord2 = []                                             #负样本\n",
    "    for i in range(n):                                                   #根据数据集标签进行分类\n",
    "        if int(labelMat[i]) == 1:\n",
    "            xcord1.append(dataArr[i,1]); ycord1.append(dataArr[i,2])     #1为正样本\n",
    "        else:\n",
    "            xcord2.append(dataArr[i,1]); ycord2.append(dataArr[i,2])     #0为负样本\n",
    "    fig = plt.figure()\n",
    "    ax = fig.add_subplot(111)                                            #添加subplot\n",
    "    ax.scatter(xcord1, ycord1, s = 20, c = 'red', marker = 's',alpha=.5) #绘制正样本\n",
    "    ax.scatter(xcord2, ycord2, s = 20, c = 'green',alpha=.5)             #绘制负样本\n",
    "    x = np.arange(-3.0, 3.0, 0.1)\n",
    "    y = (-weights[0] - weights[1] * x) / weights[2]\n",
    "    ax.plot(x, y)\n",
    "    plt.title('BestFit')                                                 #绘制title\n",
    "    plt.xlabel('X1'); plt.ylabel('X2')                                   #绘制label\n",
    "    plt.show()       "
   ]
  },
  {
   "cell_type": "code",
   "execution_count": 15,
   "metadata": {},
   "outputs": [
    {
     "data": {
      "image/png": "[encoded data removed]",
      "text/plain": [
       "<Figure size 432x288 with 1 Axes>"
      ]
     },
     "metadata": {
      "needs_background": "light"
     },
     "output_type": "display_data"
    }
   ],
   "source": [
    "dataMat, labelMat = loadDataSet()           \n",
    "weights = gradAscent(dataMat, labelMat)\n",
    "plotBestFit(weights)"
   ]
  },
  {
   "cell_type": "markdown",
   "metadata": {},
   "source": [
    "# Comparison for Gradient Ascent Algorithm"
   ]
  },
  {
   "cell_type": "markdown",
   "metadata": {},
   "source": [
    "## The above algorithm: Gradient Ascent\n",
    "- There are 100 samples in dataset, dataMatrix is 100×3. It needs to use the whole dataset to compute and updata parameters.\n",
    "- It's impossible to deat wiht a large amount of data."
   ]
  },
  {
   "cell_type": "code",
   "execution_count": 16,
   "metadata": {},
   "outputs": [],
   "source": [
    "def gradAscent(dataMatIn, classLabels):\n",
    "    dataMatrix = np.mat(dataMatIn)                                        #转换成numpy的mat\n",
    "    labelMat = np.mat(classLabels).transpose()                            #转换成numpy的mat,并进行转置\n",
    "    m, n = np.shape(dataMatrix)                                           #返回dataMatrix的大小。m为行数,n为列数。\n",
    "    alpha = 0.01                                                          #移动步长,也就是学习速率,控制更新的幅度。\n",
    "    maxCycles = 500                                                       #最大迭代次数\n",
    "    weights = np.ones((n,1))\n",
    "    for k in range(maxCycles):\n",
    "        h = sigmoid(dataMatrix * weights)                                 #梯度上升矢量化公式\n",
    "        error = labelMat - h\n",
    "        weights = weights + alpha * dataMatrix.transpose() * error\n",
    "    return weights.getA(),weights_array                                   #将矩阵转换为数组，返回权重数组"
   ]
  },
  {
   "cell_type": "markdown",
   "metadata": {},
   "source": [
    "## Stochastic Gradient Descent\n",
    "- Only use one sample to compute and updat parameters. It can save much time but it's easy to cause underfitting."
   ]
  },
  {
   "cell_type": "code",
   "execution_count": 17,
   "metadata": {},
   "outputs": [],
   "source": [
    "def stocGradAscent(dataMatrix,classLabels):\n",
    "    m,n=shape(dataMatrix)\n",
    "    alpha=0.01\n",
    "    weights=ones(n)\n",
    "    for i in range(m):\n",
    "        h=sigmoid(sum(dataMatrix[i] * weights))                          # 数值计算\n",
    "        error = classLabels[i]-h\n",
    "        weights=weights + alpha * error * dataMatrix[i]                  # array 和 list 矩阵乘法不一样\n",
    "    return weights"
   ]
  },
  {
   "cell_type": "markdown",
   "metadata": {},
   "source": [
    "## Improved Stochastic Gradient Descent\n",
    "- Alpha always becomes smaller during every iteration."
   ]
  },
  {
   "cell_type": "code",
   "execution_count": 18,
   "metadata": {},
   "outputs": [],
   "source": [
    "def stocGradAscent1(dataMatrix, classLabels, numIter=150):\n",
    "    m,n = np.shape(dataMatrix)                                           # 返回dataMatrix的大小。m为行数,n为列数。\n",
    "    weights = np.ones(n)                                                 # 参数初始化\n",
    "    for j in range(numIter):                                           \n",
    "        dataIndex = list(range(m))\n",
    "        for i in range(m):           \n",
    "            alpha = 4/(1.0+j+i)+0.01                                     # 降低alpha的大小，每次减小1/(j+i)。\n",
    "            randIndex = int(random.uniform(0,len(dataIndex)))            # 随机选取样本\n",
    "            h = sigmoid(sum(dataMatrix[randIndex]*weights))              # 选择随机选取的一个样本，计算h\n",
    "            error = classLabels[randIndex] - h                           # 计算误差\n",
    "            weights = weights + alpha * error * dataMatrix[randIndex]    # 更新回归系数\n",
    "            del(dataIndex[randIndex])                                    # 删除已经使用的样本\n",
    "    return weights                                                       # 返回"
   ]
  },
  {
   "cell_type": "markdown",
   "metadata": {},
   "source": [
    "## Summary\n",
    "- We use Gradient Ascent when dataset is small.\n",
    "- We use Improved Gradient Ascent when dataset is big."
   ]
  },
  {
   "cell_type": "markdown",
   "metadata": {},
   "source": [
    "# Logistic Regression with Sklearn"
   ]
  },
  {
   "cell_type": "code",
   "execution_count": 19,
   "metadata": {},
   "outputs": [],
   "source": [
    "from sklearn.linear_model import LogisticRegression"
   ]
  },
  {
   "cell_type": "code",
   "execution_count": 20,
   "metadata": {},
   "outputs": [],
   "source": [
    "def colicSklearn():\n",
    "    frTrain = open('04_2horseColicTraining.txt')                                        \n",
    "    frTest = open('04_3horseColicTest.txt')                                             \n",
    "    trainingSet = []; trainingLabels = []\n",
    "    testSet = []; testLabels = []\n",
    "    for line in frTrain.readlines():\n",
    "        currLine = line.strip().split('\\t')\n",
    "        lineArr = []\n",
    "        for i in range(len(currLine)-1):\n",
    "            lineArr.append(float(currLine[i]))\n",
    "        trainingSet.append(lineArr)\n",
    "        trainingLabels.append(float(currLine[-1]))\n",
    "    for line in frTest.readlines():\n",
    "        currLine = line.strip().split('\\t')\n",
    "        lineArr =[]\n",
    "        for i in range(len(currLine)-1):\n",
    "            lineArr.append(float(currLine[i]))\n",
    "        testSet.append(lineArr)\n",
    "        testLabels.append(float(currLine[-1]))\n",
    "    classifier = LogisticRegression(solver='liblinear',max_iter=100).fit(trainingSet, trainingLabels)\n",
    "    test_accurcy = classifier.score(testSet, testLabels) * 100\n",
    "    print('Correct rate:%f%%' % test_accurcy)                          #定义分类函数，prob>0.5，则分入1，否则分类0"
   ]
  },
  {
   "cell_type": "code",
   "execution_count": 21,
   "metadata": {},
   "outputs": [
    {
     "name": "stdout",
     "output_type": "stream",
     "text": [
      "Correct rate:73.134328%\n"
     ]
    }
   ],
   "source": [
    "if __name__ == '__main__':\n",
    "    colicSklearn()"
   ]
  },
  {
   "cell_type": "markdown",
   "metadata": {},
   "source": [
    "<https://github.com/zotroneneis/machine_learning_basics/blob/master/logistic_regression.ipynb>"
   ]
  },
  {
   "cell_type": "code",
   "execution_count": null,
   "metadata": {},
   "outputs": [],
   "source": []
  }
 ],
 "metadata": {
  "kernelspec": {
   "display_name": "Python 3",
   "language": "python",
   "name": "python3"
  },
  "language_info": {
   "codemirror_mode": {
    "name": "ipython",
    "version": 3
   },
   "file_extension": ".py",
   "mimetype": "text/x-python",
   "name": "python",
   "nbconvert_exporter": "python",
   "pygments_lexer": "ipython3",
   "version": "3.7.4"
  },
  "toc": {
   "base_numbering": 1,
   "nav_menu": {},
   "number_sections": true,
   "sideBar": true,
   "skip_h1_title": false,
   "title_cell": "Table of Contents",
   "title_sidebar": "Contents",
   "toc_cell": false,
   "toc_position": {},
   "toc_section_display": true,
   "toc_window_display": false
  }
 },
 "nbformat": 4,
 "nbformat_minor": 2
}
