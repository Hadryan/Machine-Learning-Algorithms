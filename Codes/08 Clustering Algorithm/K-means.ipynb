{
 "cells": [
  {
   "cell_type": "markdown",
   "metadata": {},
   "source": [
    "# Import libraries"
   ]
  },
  {
   "cell_type": "code",
   "execution_count": 1,
   "metadata": {},
   "outputs": [],
   "source": [
    "import math\n",
    "import matplotlib.pyplot as plt\n",
    "import random"
   ]
  },
  {
   "cell_type": "markdown",
   "metadata": {},
   "source": [
    "# Define Euclidean distance"
   ]
  },
  {
   "cell_type": "code",
   "execution_count": 2,
   "metadata": {},
   "outputs": [],
   "source": [
    "def getEuclidean(point1, point2):\n",
    "    dimension = len(point1)\n",
    "    dist = 0.0\n",
    "    for i in range(dimension):\n",
    "        dist += (point1[i] - point2[i]) ** 2\n",
    "    return math.sqrt(dist)"
   ]
  },
  {
   "cell_type": "markdown",
   "metadata": {},
   "source": [
    "# Define K-means function"
   ]
  },
  {
   "cell_type": "code",
   "execution_count": 3,
   "metadata": {},
   "outputs": [],
   "source": [
    "def k_means(dataset, k, iteration):\n",
    "    # initialize k center vectors\n",
    "    index = random.sample(list(range(len(dataset))), k)\n",
    "    vectors = []\n",
    "    for i in index:\n",
    "        vectors.append(dataset[i])\n",
    "        \n",
    "    # initialize labels\n",
    "    labels = []\n",
    "    for i in range(len(dataset)):\n",
    "        labels.append(-1)\n",
    "        \n",
    "    # iterate k-means process\n",
    "    while(iteration > 0):\n",
    "        C = []\n",
    "        for i in range(k):\n",
    "            C.append([])\n",
    "        for labelIndex, item in enumerate(dataset):\n",
    "            classIndex = -1\n",
    "            minDist = 1e6\n",
    "            for i, point in enumerate(vectors):\n",
    "                dist = getEuclidean(item, point)\n",
    "                if(dist < minDist):\n",
    "                    classIndex = i\n",
    "                    minDist = dist\n",
    "            C[classIndex].append(item)\n",
    "            labels[labelIndex] = classIndex\n",
    "            \n",
    "        for i, cluster in enumerate(C):\n",
    "            clusterHeart = []\n",
    "            dimension = len(dataset[0])\n",
    "            for j in range(dimension):\n",
    "                clusterHeart.append(0)\n",
    "            for item in cluster:\n",
    "                for j, coordinate in enumerate(item):\n",
    "                    clusterHeart[j] += coordinate / len(cluster)\n",
    "            vectors[i] = clusterHeart\n",
    "        iteration -= 1\n",
    "    return C, labels"
   ]
  },
  {
   "cell_type": "markdown",
   "metadata": {},
   "source": [
    "# create data and test K-means algorithm"
   ]
  },
  {
   "cell_type": "code",
   "execution_count": 5,
   "metadata": {},
   "outputs": [
    {
     "data": {
      "image/png": "[encoded data removed]",
      "text/plain": [
       "<Figure size 432x288 with 1 Axes>"
      ]
     },
     "metadata": {
      "needs_background": "light"
     },
     "output_type": "display_data"
    },
    {
     "name": "stdout",
     "output_type": "stream",
     "text": [
      "[1, 1, 2, 2, 2, 0, 0, 0, 2, 0, 0, 0, 2, 2, 0, 2, 2, 0, 0, 0, 1, 1, 2, 2, 2, 1, 2, 2, 1, 2]\n"
     ]
    }
   ],
   "source": [
    "# 数据集：每三个是一组分别是西瓜的编号，密度，含糖量\n",
    "data = \"\"\"\n",
    "    1,0.697,0.46,2,0.774,0.376,3,0.634,0.264,4,0.608,0.318,5,0.556,0.215,\n",
    "    6,0.403,0.237,7,0.481,0.149,8,0.437,0.211,9,0.666,0.091,10,0.243,0.267,\n",
    "    11,0.245,0.057,12,0.343,0.099,13,0.639,0.161,14,0.657,0.198,15,0.36,0.37,\n",
    "    16,0.593,0.042,17,0.719,0.103,18,0.359,0.188,19,0.339,0.241,20,0.282,0.257,\n",
    "    21,0.748,0.232,22,0.714,0.346,23,0.483,0.312,24,0.478,0.437,25,0.525,0.369,\n",
    "    26,0.751,0.489,27,0.532,0.472,28,0.473,0.376,29,0.725,0.445,30,0.446,0.459\n",
    "\n",
    "    \"\"\"\n",
    " \n",
    "# 数据处理 dataset是30个样本（密度，含糖量）的列表\n",
    "a = data.split(',')\n",
    "dataset = [[float(a[i]), float(a[i+1])] for i in range(1, len(a)-1, 3)]\n",
    "C, labels = k_means(dataset, 3, 20)\n",
    " \n",
    "colValue = ['r', 'y', 'g', 'b', 'c', 'k', 'm']\n",
    "for i in range(len(C)):\n",
    "    coo_X = []                                 # x坐标列表\n",
    "    coo_Y = []                                 # y坐标列表\n",
    "    for j in range(len(C[i])):\n",
    "        coo_X.append(C[i][j][0])\n",
    "        coo_Y.append(C[i][j][1])\n",
    "    plt.scatter(coo_X, coo_Y, marker='x', color=colValue[i%len(colValue)], label=i)\n",
    " \n",
    "# plt.legend(loc='upper right')\n",
    "plt.show()\n",
    "print(labels)"
   ]
  },
  {
   "cell_type": "code",
   "execution_count": null,
   "metadata": {},
   "outputs": [],
   "source": []
  }
 ],
 "metadata": {
  "kernelspec": {
   "display_name": "Python 3",
   "language": "python",
   "name": "python3"
  },
  "language_info": {
   "codemirror_mode": {
    "name": "ipython",
    "version": 3
   },
   "file_extension": ".py",
   "mimetype": "text/x-python",
   "name": "python",
   "nbconvert_exporter": "python",
   "pygments_lexer": "ipython3",
   "version": "3.7.4"
  },
  "toc": {
   "base_numbering": 1,
   "nav_menu": {},
   "number_sections": true,
   "sideBar": true,
   "skip_h1_title": false,
   "title_cell": "Table of Contents",
   "title_sidebar": "Contents",
   "toc_cell": false,
   "toc_position": {},
   "toc_section_display": true,
   "toc_window_display": true
  }
 },
 "nbformat": 4,
 "nbformat_minor": 2
}
