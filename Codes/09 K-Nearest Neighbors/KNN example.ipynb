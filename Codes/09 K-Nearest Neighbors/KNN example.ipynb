{
 "cells": [
  {
   "cell_type": "markdown",
   "metadata": {},
   "source": [
    "# Example 1"
   ]
  },
  {
   "cell_type": "markdown",
   "metadata": {},
   "source": [
    "## Import libraries"
   ]
  },
  {
   "cell_type": "code",
   "execution_count": 1,
   "metadata": {},
   "outputs": [],
   "source": [
    "import numpy as np\n",
    "import operator\n",
    "import matplotlib.pyplot as plt"
   ]
  },
  {
   "cell_type": "markdown",
   "metadata": {},
   "source": [
    "## Create training data and set corresponding labels"
   ]
  },
  {
   "cell_type": "code",
   "execution_count": 2,
   "metadata": {},
   "outputs": [],
   "source": [
    "def create_dataset():\n",
    "    group = np.array([[1.0, 2.0], [1.2, 0.1], [0.1, 1.4], [0.3, 3.5]])\n",
    "    labels = ['A','A','B','B']\n",
    "    return group, labels"
   ]
  },
  {
   "cell_type": "markdown",
   "metadata": {},
   "source": [
    "## Create KNN classifier"
   ]
  },
  {
   "cell_type": "code",
   "execution_count": 3,
   "metadata": {},
   "outputs": [],
   "source": [
    "def classify(input, dataSet, label, k):\n",
    "    dataSize = dataSet.shape[0]\n",
    "    \n",
    "    # copy input as dataSet\n",
    "    diff = np.tile(input, (dataSize, 1)) - dataSet\n",
    "    sqdiff = diff**2\n",
    "    \n",
    "    # sum all column vecto into a new column vector\n",
    "    squareDist = np.array([sum(x) for x in sqdiff])\n",
    "    dist = squareDist**0.5\n",
    "    \n",
    "    # sorted(distance), argsort() can return index based on the element value with ascending order\n",
    "    sortedDistIndex = np.argsort(dist)\n",
    "    \n",
    "    classCount = {}\n",
    "    for i in range(k):\n",
    "        voteLabel = label[sortedDistIndex[i]]                     # 因为已经对距离进行排序，所以直接循环sortedDistIndx\n",
    "        classCount[voteLabel] = classCount.get(voteLabel, 0) + 1  # 对选取的k个样本所属的类别个数进行统计\n",
    "        \n",
    "    # pick category which appears mostly\n",
    "    maxCount = 0\n",
    "    for key, value in classCount.items():\n",
    "        if value > maxCount:\n",
    "            maxCount = value\n",
    "            classes = key\n",
    "    \n",
    "    return classes"
   ]
  },
  {
   "cell_type": "markdown",
   "metadata": {},
   "source": [
    "## Data visualization"
   ]
  },
  {
   "cell_type": "code",
   "execution_count": 4,
   "metadata": {},
   "outputs": [
    {
     "data": {
      "image/png": "[encoded data removed]",
      "text/plain": [
       "<Figure size 432x288 with 1 Axes>"
      ]
     },
     "metadata": {
      "needs_background": "light"
     },
     "output_type": "display_data"
    },
    {
     "name": "stdout",
     "output_type": "stream",
     "text": [
      "B\n"
     ]
    }
   ],
   "source": [
    "def draw_pic(input):\n",
    "    plt.scatter([1.0,1.2],[2.0,0.1],label='A')\n",
    "    plt.scatter([0.1,0.3],[1.4,3.5],label='B')\n",
    "    plt.scatter(input[0],input[1],label='test')\n",
    "    plt.legend()\n",
    "    plt.show()\n",
    "data, labels = create_dataset()\n",
    "input = [0.5, 3.0]\n",
    "draw_pic(input)\n",
    "print(classify(input,data,labels,2))"
   ]
  },
  {
   "cell_type": "markdown",
   "metadata": {},
   "source": [
    "# Example 2"
   ]
  },
  {
   "cell_type": "markdown",
   "metadata": {},
   "source": [
    "## Import libraries"
   ]
  },
  {
   "cell_type": "code",
   "execution_count": 5,
   "metadata": {},
   "outputs": [],
   "source": [
    "import numpy as np\n",
    "import matplotlib as mpl\n",
    "import matplotlib.pyplot as plt"
   ]
  },
  {
   "cell_type": "markdown",
   "metadata": {},
   "source": [
    "## Create training data and set corresponding labels\n",
    "\n",
    "**Object: create several groups of dataset, each group can be called one type**\n",
    "\n",
    "**函数逻辑:**\n",
    "- 将x轴分段，每个段设一个中心的，所有的中心点用cores存储。\n",
    "- 设置每个数据中心点core的类别，由中心点在一定范围内随机产生数据，并将这些数据设为和core一样的类别\n",
    "- 所以每类的数据会简单的被X轴的每段大致分开"
   ]
  },
  {
   "cell_type": "code",
   "execution_count": 6,
   "metadata": {},
   "outputs": [],
   "source": [
    "def makeKNNData(colnum, clsnum, nums, cores = []):\n",
    "    '''\n",
    "    colnum：单个数据拥有特征数量（包括数据的分类）；\n",
    "    clsnum：共有多少种分类；\n",
    "    nums：一个元组，表示每个类别希望产生多少数据样本，如colnum为5，nums为[56, 69, 60, 92, 95]；\n",
    "    cores：非必要参数，手动给出只是用于测试，cores提供每类的中心点，以中心点为依据产生该类数据。\n",
    "    \n",
    "    '''\n",
    "\n",
    "    dataSet = np.zeros((sum(nums),colnum))        # 初始化数据集，用于存放随后生成的所有数据\n",
    "    n = 0                                         # 记录生成数据的下标\n",
    "    step = 20/clsnum                              # 假定X坐标轴只显示0~20的范围，step为X轴分段后的段长\n",
    "    for j in range(clsnum):                       # 循环生成各个类数据\n",
    "        try:\n",
    "            core = cores[j]                       # 如果cores没有给出则，则出错，跳至except执行\n",
    "        except IndexError :\n",
    "            core = np.random.rand(1,3)            # 中心点为array([[x1,x2,c]])，c用于表示类别，这里产生的是1*3的二维数组\n",
    "            core[0][0] =j*step + core[0][0]*step  # 将x1限制在各段中\n",
    "            core[0][1] *=15                       # 将x2即y轴限制在0~15范围内\n",
    "            core[0][2] = j                        # 设置类别\n",
    "            cores.append(core)\n",
    "        for i in range(nums[j]):                                    # 按nums中指定了每类数据的数量，用循环生成。\n",
    "            point= core[0][:2] + np.random.rand(1,2)*step -step/2   # 产生点point（x,y)，x以中心点在（core_x - step/2, core_x + step/2)范围随机波动，y同理。\n",
    "            row = np.column_stack((point,core[0][2]))               # 加上类别成为一个数据\n",
    "            dataSet[n] = row\n",
    "            n +=1\n",
    "            i +=1\n",
    "\n",
    "        j +=1\n",
    "\n",
    "    print(\"print cores:\", cores)\n",
    "    return dataSet"
   ]
  },
  {
   "cell_type": "markdown",
   "metadata": {},
   "source": [
    "## Create KNN classifier"
   ]
  },
  {
   "cell_type": "code",
   "execution_count": 7,
   "metadata": {},
   "outputs": [],
   "source": [
    "import numpy as np\n",
    "import matplotlib as mpl\n",
    "import matplotlib.pyplot as plt\n",
    "\n",
    "def KNNClassify(labelData, predData, k):\n",
    "    '''\n",
    "    labelData: train dataset with labels\n",
    "    predData: test dataset needed be predicted\n",
    "    ''' \n",
    "\n",
    "    labShape = labelData.shape\n",
    "    for i in range(predData.shape[0]):                         # 以predData的每行数据进行遍历\n",
    "        iData = predData[i]\n",
    "        iDset = np.tile(iData, (labShape[0],1))                # 将iData重复，扩展成与labelData同形的矩阵\n",
    "        \n",
    "        # Euclidean distance = sqrt((x1-x2)^2 + (y1-y2)^2)\n",
    "        diff = iDset[..., :-1] - labelData[..., :-1]\n",
    "        diff = diff ** 2\n",
    "        distance = np.sum(diff, axis = 1)\n",
    "        distance = distance ** 0.5\n",
    "        sortedIND = np.argsort(distance)\n",
    "        \n",
    "        # 计算距离最近的前k个标记数据的类别\n",
    "        classCount = { }\n",
    "        for j in range(k):  \n",
    "            voteLabel = labelData[sortedIND[j], -1]\n",
    "            classCount[voteLabel] = classCount.get(voteLabel, 0) + 1\n",
    "        \n",
    "        # return key name with most type 类别最多的，返回键名（类别名）\n",
    "        maxcls = max(classCount, key=classCount.get)   \n",
    "        predData[i][...,-1] = maxcls\n",
    "\n",
    "    return predData"
   ]
  },
  {
   "cell_type": "markdown",
   "metadata": {},
   "source": [
    "## Data visualization"
   ]
  },
  {
   "cell_type": "code",
   "execution_count": 8,
   "metadata": {},
   "outputs": [
    {
     "name": "stdout",
     "output_type": "stream",
     "text": [
      "print cores: [array([[ 3.62636867, 11.11370029,  0.        ]]), array([[7.46593413, 0.5511444 , 1.        ]]), array([[8.0297744 , 5.54003975, 2.        ]]), array([[15.88393862,  1.80297617,  3.        ]]), array([[16.52782768,  7.72055129,  4.        ]])]\n"
     ]
    },
    {
     "data": {
      "image/png": "[encoded data removed]",
      "text/plain": [
       "<Figure size 432x288 with 1 Axes>"
      ]
     },
     "metadata": {
      "needs_background": "light"
     },
     "output_type": "display_data"
    }
   ],
   "source": [
    "import numpy as np\n",
    "import matplotlib as mpl\n",
    "import matplotlib.pyplot as plt\n",
    "\n",
    "def showFigure(dataSet, clsnum):\n",
    "    fig = plt.figure()\n",
    "    ax = fig.add_subplot(1, 1, 1)            # The interface only needs to display one view\n",
    "    ax.set_title('KNN separable data set')\n",
    "    plt.xlabel('X')\n",
    "    plt.ylabel('Y')\n",
    "\n",
    "    colors = ['r','g','b','y','k']           # define show colors\n",
    "    for i in range(clsnum):\n",
    "        idx = np.where(dataSet[:,2] == i)    # retrieve index of each type 查询每类的索引号\n",
    "        ax.scatter(dataSet[idx,0], dataSet[idx,1], marker='o', color=colors[i%5], label=i, s=10)\n",
    "\n",
    "    plt.legend(loc = 'upper right')\n",
    "    plt.show()\n",
    "\n",
    "\n",
    "# test which needs combine makeKNNData() function\n",
    "classnum = 5\n",
    "nums = np.random.randint(50, 100, classnum)   # e.g.: array([56, 69, 60, 92, 95]) between 50 and 100\n",
    "dataSet = makeKNNData(3, classnum,nums)\n",
    "showFigure(dataSet, classnum)"
   ]
  }
 ],
 "metadata": {
  "kernelspec": {
   "display_name": "Python 3",
   "language": "python",
   "name": "python3"
  },
  "language_info": {
   "codemirror_mode": {
    "name": "ipython",
    "version": 3
   },
   "file_extension": ".py",
   "mimetype": "text/x-python",
   "name": "python",
   "nbconvert_exporter": "python",
   "pygments_lexer": "ipython3",
   "version": "3.7.4"
  },
  "toc": {
   "base_numbering": 1,
   "nav_menu": {},
   "number_sections": true,
   "sideBar": true,
   "skip_h1_title": false,
   "title_cell": "Table of Contents",
   "title_sidebar": "Contents",
   "toc_cell": false,
   "toc_position": {},
   "toc_section_display": true,
   "toc_window_display": true
  }
 },
 "nbformat": 4,
 "nbformat_minor": 2
}
