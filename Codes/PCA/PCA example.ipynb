{
 "cells": [
  {
   "cell_type": "code",
   "execution_count": 2,
   "metadata": {},
   "outputs": [
    {
     "data": {
      "image/png": "[encoded data removed]",
      "text/plain": [
       "<Figure size 432x288 with 1 Axes>"
      ]
     },
     "metadata": {
      "needs_background": "light"
     },
     "output_type": "display_data"
    }
   ],
   "source": [
    "import matplotlib.pyplot as plt             #加载matplotlib用于数据的可视化\n",
    "from sklearn.decomposition import PCA       #加载PCA算法包\n",
    "from sklearn.datasets import load_iris\n",
    "\n",
    "\n",
    "data=load_iris()\n",
    "y=data.target\n",
    "x=data.data\n",
    "pca=PCA(n_components=2)                     #加载PCA算法，设置降维后主成分数目为2\n",
    "reduced_x=pca.fit_transform(x)              #对样本进行降维\n",
    "\n",
    "red_x,red_y=[],[]\n",
    "blue_x,blue_y=[],[]\n",
    "green_x,green_y=[],[]\n",
    "\n",
    "\n",
    "for i in range(len(reduced_x)):\n",
    "    if y[i] ==0:\n",
    "        red_x.append(reduced_x[i][0])\n",
    "        red_y.append(reduced_x[i][1])\n",
    "\n",
    "    elif y[i]==1:\n",
    "        blue_x.append(reduced_x[i][0])\n",
    "        blue_y.append(reduced_x[i][1])\n",
    "\n",
    "    else:\n",
    "        green_x.append(reduced_x[i][0])\n",
    "        green_y.append(reduced_x[i][1])\n",
    "\n",
    "#可视化\n",
    "plt.scatter(red_x,red_y,c='r',marker='x')\n",
    "plt.scatter(blue_x,blue_y,c='b',marker='D')\n",
    "plt.scatter(green_x,green_y,c='g',marker='.')\n",
    "plt.show()"
   ]
  },
  {
   "cell_type": "markdown",
   "metadata": {},
   "source": [
    "**Reference:**\n",
    "\n",
    "https://blog.csdn.net/qq_38825002/article/details/81356377?utm_medium=distribute.pc_relevant_t0.none-task-blog-BlogCommendFromBaidu-1&depth_1-utm_source=distribute.pc_relevant_t0.none-task-blog-BlogCommendFromBaidu-1"
   ]
  }
 ],
 "metadata": {
  "kernelspec": {
   "display_name": "Python 3",
   "language": "python",
   "name": "python3"
  },
  "language_info": {
   "codemirror_mode": {
    "name": "ipython",
    "version": 3
   },
   "file_extension": ".py",
   "mimetype": "text/x-python",
   "name": "python",
   "nbconvert_exporter": "python",
   "pygments_lexer": "ipython3",
   "version": "3.7.4"
  },
  "toc": {
   "base_numbering": 1,
   "nav_menu": {},
   "number_sections": true,
   "sideBar": true,
   "skip_h1_title": false,
   "title_cell": "Table of Contents",
   "title_sidebar": "Contents",
   "toc_cell": false,
   "toc_position": {},
   "toc_section_display": true,
   "toc_window_display": false
  }
 },
 "nbformat": 4,
 "nbformat_minor": 2
}
